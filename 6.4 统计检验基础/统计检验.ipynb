{
 "cells": [
  {
   "cell_type": "code",
   "execution_count": 1,
   "metadata": {},
   "outputs": [],
   "source": [
    "# 1. 引入波士顿房价数据\n",
    "import pandas as pd\n",
    "from sklearn import datasets\n",
    "x_df=pd.DataFrame(datasets.load_boston()['data'],columns=datasets.load_boston()['feature_names']) #X\n",
    "y_df=pd.DataFrame(datasets.load_boston()['target'],columns=['y']) #Y\n",
    "df = x_df.join(y_df)"
   ]
  },
  {
   "cell_type": "code",
   "execution_count": 2,
   "metadata": {},
   "outputs": [
    {
     "name": "stdout",
     "output_type": "stream",
     "text": [
      "             df        sum_sq      mean_sq          F    PR(>F)\n",
      "CHAS        1.0   1312.079271  1312.079271  15.971512  0.000074\n",
      "Residual  504.0  41404.216144    82.151223        NaN       NaN\n"
     ]
    }
   ],
   "source": [
    "# 2. 近河住宅和非近河住宅的房价上是否有差异?\n",
    "from statsmodels.formula.api import ols\n",
    "from statsmodels.stats.anova import anova_lm\n",
    "model = ols('y ~ CHAS',df).fit()\n",
    "anovat = anova_lm(model)\n",
    "print(anovat)"
   ]
  },
  {
   "cell_type": "markdown",
   "metadata": {},
   "source": [
    "### 使用单因素方差分析法\n",
    "原假设：近河住宅和非近河住宅的房价无差异  \n",
    "备择假设：近河住宅和非近河住宅的房价有差异  \n",
    "\n",
    "F统计量的P值为0.000074，远小于0.05，因此可以在95%的置信水平下拒绝原假设，认为近河住宅和非近河住宅的房价存在差异"
   ]
  },
  {
   "cell_type": "code",
   "execution_count": 3,
   "metadata": {},
   "outputs": [
    {
     "name": "stdout",
     "output_type": "stream",
     "text": [
      "Ttest_indResult(statistic=3.996437466090509, pvalue=7.390623170519905e-05)\n"
     ]
    }
   ],
   "source": [
    "# 3. 假定两种类型房屋的房价服从正态分布,使用T检验探查近河住宅和非近河住宅在房价上的差异是否有统计学意义?(显著性水平为0.05)\n",
    "import scipy\n",
    "print(scipy.stats.ttest_ind(df[df['CHAS'] == 1]['y'], df[df['CHAS'] == 0]['y']))"
   ]
  },
  {
   "cell_type": "markdown",
   "metadata": {},
   "source": [
    "### 使用两独立样本T检验法\n",
    "原假设：差异不具有统计学意义  \n",
    "备择假设：差异具有统计学意义  \n",
    "\n",
    "在α=0.05的检验水准上，拒绝H0，因此近河住宅和非近河住宅在房价上的差异具有统计学意义"
   ]
  }
 ],
 "metadata": {
  "kernelspec": {
   "display_name": "Python 3",
   "language": "python",
   "name": "python3"
  },
  "language_info": {
   "codemirror_mode": {
    "name": "ipython",
    "version": 3
   },
   "file_extension": ".py",
   "mimetype": "text/x-python",
   "name": "python",
   "nbconvert_exporter": "python",
   "pygments_lexer": "ipython3",
   "version": "3.6.5"
  }
 },
 "nbformat": 4,
 "nbformat_minor": 2
}
