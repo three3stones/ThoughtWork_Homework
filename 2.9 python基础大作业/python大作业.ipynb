{
 "cells": [
  {
   "cell_type": "markdown",
   "metadata": {},
   "source": [
    "### 1. 一共有多少不同的用户"
   ]
  },
  {
   "cell_type": "code",
   "execution_count": 20,
   "metadata": {},
   "outputs": [
    {
     "name": "stdout",
     "output_type": "stream",
     "text": [
      "一共有 162541 位不同的用户\n"
     ]
    }
   ],
   "source": [
    "import csv \n",
    "csv_ratings = csv.reader(open('C:/Users/10920/Desktop/ml-25m/ratings.csv','r',  encoding='UTF-8'))    #  userId  movieId  rating  timestamp\n",
    "\n",
    "userId = []\n",
    "for i, line in enumerate(csv_ratings):\n",
    "    if i > 0:           # 去除表头\n",
    "        userId.append(line[0])\n",
    "print(\"一共有 %d 位不同的用户\" % len(set(userId)))"
   ]
  },
  {
   "cell_type": "markdown",
   "metadata": {},
   "source": [
    "### 2. 一共有多少不同的电影"
   ]
  },
  {
   "cell_type": "code",
   "execution_count": 21,
   "metadata": {},
   "outputs": [
    {
     "name": "stdout",
     "output_type": "stream",
     "text": [
      "一共有 62423 个不同的电影\n"
     ]
    }
   ],
   "source": [
    "import csv \n",
    "csv_movies = csv.reader(open('C:/Users/10920/Desktop/ml-25m/movies.csv','r', encoding='UTF-8'))    #  movieId  title  genres\n",
    "\n",
    "movieId = []\n",
    "for i, line in enumerate(csv_movies):\n",
    "    if i > 0:          # 去除表头\n",
    "        movieId.append(line[0])\n",
    "print(\"一共有 %d 个不同的电影\" % len(set(movieId)))"
   ]
  },
  {
   "cell_type": "markdown",
   "metadata": {},
   "source": [
    "### 3. 一共有多少不同的电影种类"
   ]
  },
  {
   "cell_type": "code",
   "execution_count": 22,
   "metadata": {},
   "outputs": [
    {
     "name": "stdout",
     "output_type": "stream",
     "text": [
      "一共有 19 个不同的电影种类\n"
     ]
    }
   ],
   "source": [
    "import csv \n",
    "csv_movies = csv.reader(open('C:/Users/10920/Desktop/ml-25m/movies.csv','r', encoding='UTF-8'))    #  movieId  title  genres\n",
    "\n",
    "genres = []\n",
    "for i, line in enumerate(csv_movies):\n",
    "    if i > 0:                           # 去除表头\n",
    "        if line[2] != '(no genres listed)':\n",
    "            genres.extend(line[2].split(\"|\"))\n",
    "\n",
    "print(\"一共有 %d 个不同的电影种类\" % len(set(genres)))"
   ]
  },
  {
   "cell_type": "markdown",
   "metadata": {},
   "source": [
    "### 4. 一共有多少电影没有外部链接"
   ]
  },
  {
   "cell_type": "code",
   "execution_count": 23,
   "metadata": {},
   "outputs": [
    {
     "name": "stdout",
     "output_type": "stream",
     "text": [
      "一共有 0 个电影没有外部链接\n"
     ]
    }
   ],
   "source": [
    "import csv \n",
    "csv_links = csv.reader(open('C:/Users/10920/Desktop/ml-25m/links.csv','r', encoding='UTF-8'))    #  movieId  imdbId  tmbdId\n",
    "\n",
    "movie_links = []\n",
    "for i, line in enumerate(csv_links):\n",
    "    if i > 0:                           # 去除表头\n",
    "        movie_links.append(line[0])\n",
    "\n",
    "print(\"一共有 %d 个电影没有外部链接\" % (len(set(movieId)) - len(set(movie_links))))"
   ]
  },
  {
   "cell_type": "markdown",
   "metadata": {},
   "source": [
    "### 5. 2018年一共有多少人进行过电影评分"
   ]
  },
  {
   "cell_type": "code",
   "execution_count": 25,
   "metadata": {},
   "outputs": [
    {
     "name": "stdout",
     "output_type": "stream",
     "text": [
      " 2018年一共有 12001 人进行过电影评分\n"
     ]
    }
   ],
   "source": [
    "import csv\n",
    "import time\n",
    "csv_ratings = csv.reader(open('C:/Users/10920/Desktop/ml-25m/ratings.csv', 'r', encoding='UTF-8'))  #  userId  movieId  rating  timestamp\n",
    "\n",
    "userId_rating_2018 = []\n",
    "for i, line in enumerate(csv_ratings):\n",
    "    if i > 0:  # 去除表头\n",
    "        if time.gmtime(int(line[3])).tm_year == 2018:\n",
    "            userId_rating_2018.append(line[0])\n",
    "print(\" 2018年一共有 %d 人进行过电影评分\" % len(set(userId_rating_2018)))"
   ]
  },
  {
   "cell_type": "code",
   "execution_count": null,
   "metadata": {},
   "outputs": [],
   "source": []
  }
 ],
 "metadata": {
  "kernelspec": {
   "display_name": "Python 3",
   "language": "python",
   "name": "python3"
  },
  "language_info": {
   "codemirror_mode": {
    "name": "ipython",
    "version": 3
   },
   "file_extension": ".py",
   "mimetype": "text/x-python",
   "name": "python",
   "nbconvert_exporter": "python",
   "pygments_lexer": "ipython3",
   "version": "3.6.5"
  }
 },
 "nbformat": 4,
 "nbformat_minor": 2
}
