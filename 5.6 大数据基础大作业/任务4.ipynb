{
 "cells": [
  {
   "cell_type": "markdown",
   "metadata": {},
   "source": [
    "## 任务４：用pyspark读取hive表，计算最近3个月的活跃用户　　\n",
    "\n",
    "其中活跃用户定义为：至少有3次电影评分，且至少有1次为电影打标签"
   ]
  },
  {
   "cell_type": "code",
   "execution_count": 30,
   "metadata": {},
   "outputs": [],
   "source": [
    "# -*- coding: utf-8 -*\n",
    "from pyspark.sql import SparkSession, HiveContext\n",
    "\n",
    "spark = SparkSession.builder.enableHiveSupport().appName(\"test\").getOrCreate()"
   ]
  },
  {
   "cell_type": "code",
   "execution_count": 33,
   "metadata": {},
   "outputs": [],
   "source": [
    "# 读取hive表\n",
    "movie = spark.read.table('test.movie')\n",
    "rating = spark.read.table('test.rating')\n",
    "tag = spark.read.table('test.tag')\n",
    "\n",
    "# 去除第一行的列名\n",
    "movie = movie.where(movie['movieid'] > 0)\n",
    "rating = rating.where(rating['time_stamp'] > 1)\n",
    "tag = tag.where(tag['time_stamp'] > 1)"
   ]
  },
  {
   "cell_type": "code",
   "execution_count": 46,
   "metadata": {},
   "outputs": [],
   "source": [
    "# 日期转换函数\n",
    "import time\n",
    "def timestamp2datatime(time_stamp):\n",
    "    timeArray = time.localtime(int(time_stamp))\n",
    "    otherStyleTime = time.strftime(\"%Y%m%d%H%M%S\", timeArray)\n",
    "    return otherStyleTime\n",
    "\n",
    "# 注册udf函数\n",
    "from pyspark.sql.functions import udf\n",
    "from pyspark.sql.types import StringType\n",
    "timestamp2datatime = udf(timestamp2datatime, returnType=StringType())\n",
    "rating1 = rating.withColumn(\"data_time\", timestamp2datatime(rating[\"time_stamp\"]))\n",
    "tag1 = tag.withColumn(\"data_time\", timestamp2datatime(tag[\"time_stamp\"]))"
   ]
  },
  {
   "cell_type": "code",
   "execution_count": 42,
   "metadata": {},
   "outputs": [
    {
     "name": "stdout",
     "output_type": "stream",
     "text": [
      "+------+-------+------+----------+--------------+\n",
      "|userid|movieid|rating|time_stamp|     data_time|\n",
      "+------+-------+------+----------+--------------+\n",
      "| 85523| 149406|   4.5|1574327703|20191121171503|\n",
      "|  8642| 122914|   4.0|1574327549|20191121171229|\n",
      "| 85523| 204704|   4.0|1574327533|20191121171213|\n",
      "|  8642| 202101|   2.0|1574327512|20191121171152|\n",
      "| 85523| 168252|   4.0|1574327479|20191121171119|\n",
      "| 85523| 109487|   4.5|1574327445|20191121171045|\n",
      "| 85523| 195165|   3.0|1574327424|20191121171024|\n",
      "| 85523|  60069|   4.5|1574327406|20191121171006|\n",
      "| 85523| 122912|   4.5|1574327399|20191121170959|\n",
      "| 85523|  59315|   4.0|1574327393|20191121170953|\n",
      "+------+-------+------+----------+--------------+\n",
      "only showing top 10 rows\n",
      "\n"
     ]
    }
   ],
   "source": [
    "rating1.orderBy(rating1.data_time.desc()).show(10)"
   ]
  },
  {
   "cell_type": "markdown",
   "metadata": {},
   "source": [
    "### 评分表中最近的日期为20191121，因此以该日期为最近一天，查询最近3个月的活跃用户  \n",
    " 其中活跃用户定义为：至少有3次电影评分，且至少有1次为电影打标签"
   ]
  },
  {
   "cell_type": "code",
   "execution_count": 45,
   "metadata": {},
   "outputs": [
    {
     "data": {
      "text/plain": [
       "328573"
      ]
     },
     "execution_count": 45,
     "metadata": {},
     "output_type": "execute_result"
    }
   ],
   "source": [
    "rating2 = rating1.where(rating1['data_time']>'20190821000000')\n",
    "rating2.count()"
   ]
  },
  {
   "cell_type": "code",
   "execution_count": 53,
   "metadata": {},
   "outputs": [
    {
     "name": "stdout",
     "output_type": "stream",
     "text": [
      "<class 'list'>\n",
      "['61920', '144421', '138288', '8164', '28583', '3150', '90103', '65716', '46110', '46633']\n"
     ]
    }
   ],
   "source": [
    "# 近三个月为电影打标签的用户id\n",
    "tag2 = tag1.where(tag1['data_time']>'20190821000000')\n",
    "from pyspark.sql import functions as F \n",
    "userid_list = tag2.select(F.collect_set('userid').alias('userid')).first()['userid']\n",
    "print(type(userid_list))\n",
    "print(userid_list[:10])"
   ]
  },
  {
   "cell_type": "code",
   "execution_count": 56,
   "metadata": {},
   "outputs": [],
   "source": [
    "# 1. 在评分表中标注一下近三个月打过标签的用户id\n",
    "def tag_user(userid):\n",
    "    if userid in userid_list:\n",
    "        return 1\n",
    "    else:\n",
    "        return 0\n",
    "\n",
    "from pyspark.sql.types import IntegerType\n",
    "tag_user = udf(tag_user, returnType=IntegerType())\n",
    "rating3 = rating2.withColumn(\"tag\", tag_user(rating2[\"userid\"]))"
   ]
  },
  {
   "cell_type": "code",
   "execution_count": 68,
   "metadata": {},
   "outputs": [
    {
     "name": "stdout",
     "output_type": "stream",
     "text": [
      "+------+----------+-------+\n",
      "|userid|user_count|tag_sum|\n",
      "+------+----------+-------+\n",
      "| 38672|         8|      8|\n",
      "| 57085|        20|     20|\n",
      "|100735|         9|      9|\n",
      "|101272|       199|    199|\n",
      "|116194|       141|    141|\n",
      "| 35095|         6|      6|\n",
      "| 39692|        31|     31|\n",
      "| 77965|        33|     33|\n",
      "|114553|        94|     94|\n",
      "| 29301|        35|     35|\n",
      "|134633|        33|     33|\n",
      "| 30815|       343|    343|\n",
      "| 36159|        23|     23|\n",
      "| 50929|       280|    280|\n",
      "|113800|        83|     83|\n",
      "|116582|       165|    165|\n",
      "|   647|        16|     16|\n",
      "| 45004|         4|      4|\n",
      "| 98738|        35|     35|\n",
      "|137652|        67|     67|\n",
      "+------+----------+-------+\n",
      "only showing top 20 rows\n",
      "\n"
     ]
    }
   ],
   "source": [
    "# 2. 查询近三个月至少有三次电影评分的用户，即为活跃用户\n",
    "result = rating3.groupBy(\"userid\").agg(\n",
    "    F.count(\"userid\").alias(\"user_count\"),\n",
    "    F.sum(\"tag\").alias(\"tag_sum\")\n",
    ")\n",
    "\n",
    "final_result = result.where(result['user_count']>=3).where(result['tag_sum'] >= 1)\n",
    "final_result.show()"
   ]
  },
  {
   "cell_type": "code",
   "execution_count": 69,
   "metadata": {},
   "outputs": [
    {
     "name": "stdout",
     "output_type": "stream",
     "text": [
      "+------+\n",
      "|userid|\n",
      "+------+\n",
      "| 38672|\n",
      "| 57085|\n",
      "|100735|\n",
      "|101272|\n",
      "|116194|\n",
      "| 35095|\n",
      "| 39692|\n",
      "| 77965|\n",
      "|114553|\n",
      "| 29301|\n",
      "|134633|\n",
      "| 30815|\n",
      "| 36159|\n",
      "| 50929|\n",
      "|113800|\n",
      "|116582|\n",
      "|   647|\n",
      "| 45004|\n",
      "| 98738|\n",
      "|137652|\n",
      "+------+\n",
      "only showing top 20 rows\n",
      "\n"
     ]
    }
   ],
   "source": [
    "# 最终的活跃用户\n",
    "final_result.select(\"userid\").show()"
   ]
  },
  {
   "cell_type": "code",
   "execution_count": null,
   "metadata": {},
   "outputs": [],
   "source": []
  }
 ],
 "metadata": {
  "kernelspec": {
   "display_name": "Python 3",
   "language": "python",
   "name": "python3"
  },
  "language_info": {
   "codemirror_mode": {
    "name": "ipython",
    "version": 3
   },
   "file_extension": ".py",
   "mimetype": "text/x-python",
   "name": "python",
   "nbconvert_exporter": "python",
   "pygments_lexer": "ipython3",
   "version": "3.6.8"
  }
 },
 "nbformat": 4,
 "nbformat_minor": 2
}
